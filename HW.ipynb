{
 "cells": [
  {
   "cell_type": "code",
   "execution_count": 117,
   "id": "b13d7e5a-72ba-43c1-a74b-b64f92707a47",
   "metadata": {},
   "outputs": [],
   "source": [
    "import pandas as pd\n",
    "import numpy as np\n",
    "import datetime as dt\n"
   ]
  },
  {
   "cell_type": "code",
   "execution_count": 118,
   "id": "49e479f5-e7b6-4d7a-9eb4-4e1ae14c243c",
   "metadata": {},
   "outputs": [],
   "source": [
    "\n",
    "input_data = pd.read_csv('input.csv', names = ['TimeStamp','Symbol','Quantity','Price'])\n"
   ]
  },
  {
   "cell_type": "code",
   "execution_count": 119,
   "id": "ea0eee71-2e2d-45bc-a811-646aa0b06cae",
   "metadata": {},
   "outputs": [],
   "source": [
    "## calculating the maximum price of each Ticker, average price, and total volume\n",
    "\n",
    "### Added a notional column\n",
    "\n",
    "input_data_edit = input_data\n",
    "input_data_edit['Notional'] = input_data_edit['Quantity']*input_data_edit['Price']\n",
    "\n",
    "### calculate the MaxPrice, and quantity\n",
    "\n",
    "input_data_groups = input_data_edit.groupby('Symbol').agg(Notional = ('Notional', 'sum'), Volume = ('Quantity', 'sum'), MaxPrice = ('Price','max')).reset_index()\n",
    "\n",
    "### caclulate the WeightedAveragePrice\n",
    "\n",
    "input_data_groups['WeightedAveragePrice'] = (input_data_groups['Notional']/input_data_groups['Volume']).round(0).astype(int)\n",
    "\n",
    "#input_data_groups.head()\n"
   ]
  },
  {
   "cell_type": "code",
   "execution_count": 120,
   "id": "03264661-b354-4f1f-9358-ecc1efd986b4",
   "metadata": {},
   "outputs": [],
   "source": [
    "# calculating the Max Time between ticker trades\n",
    "\n",
    "## sort values and then calculate time diff\n",
    "\n",
    "input_data_edit2 = input_data_edit.sort_values(by = ['Symbol','TimeStamp'])\n",
    "\n",
    "### remove the diff from the last timestamp of a ticker and the first timestamp of the next ticker\n",
    "\n",
    "input_data_edit2['same_ticker'] = (input_data_edit2['Symbol'] != input_data_edit2['Symbol'].shift()).astype(int)\n",
    "input_data_edit2['diff'] = input_data_edit2['TimeStamp'].diff()\n",
    "\n",
    "input_data_edit2 = input_data_edit2[input_data_edit2['same_ticker'] != 1]\n",
    "\n",
    "\n",
    "## calculate max time diff\n",
    "\n",
    "max_diff = input_data_edit2.groupby('Symbol').agg(MaxTimeGap = ('diff', 'max')).reset_index()\n",
    "\n",
    "max_diff['MaxTimeGap'] = max_diff['MaxTimeGap'].astype(int)\n"
   ]
  },
  {
   "cell_type": "code",
   "execution_count": 121,
   "id": "5bfb9921-0e26-462b-a713-31d18513ac2f",
   "metadata": {
    "scrolled": true
   },
   "outputs": [],
   "source": [
    "## combine the tables and remove unnecessary columns and add 0 to the MaxTimeGap that only had 1 trade\n",
    "\n",
    "output_data = pd.merge(input_data_groups,max_diff, on = 'Symbol', how = 'outer').drop('Notional',axis=1)\n",
    "output_data['MaxTimeGap'] = output_data['MaxTimeGap'].replace('',np.nan).fillna(0)\n",
    "\n",
    "output_data.head()\n",
    "output_data = output_data[['Symbol','MaxTimeGap','Volume','WeightedAveragePrice','MaxPrice']]\n",
    "\n",
    "output_data.to_csv('output.csv', index=False,header=False)\n",
    "\n",
    "\n"
   ]
  },
  {
   "cell_type": "code",
   "execution_count": null,
   "id": "bd4e8187-44c0-4552-a1b2-ce6872ed42ef",
   "metadata": {},
   "outputs": [],
   "source": []
  },
  {
   "cell_type": "code",
   "execution_count": null,
   "id": "2b8c0376-2d37-4b16-9f62-1433ee7c4102",
   "metadata": {},
   "outputs": [],
   "source": []
  }
 ],
 "metadata": {
  "kernelspec": {
   "display_name": "Python 3 (ipykernel)",
   "language": "python",
   "name": "python3"
  },
  "language_info": {
   "codemirror_mode": {
    "name": "ipython",
    "version": 3
   },
   "file_extension": ".py",
   "mimetype": "text/x-python",
   "name": "python",
   "nbconvert_exporter": "python",
   "pygments_lexer": "ipython3",
   "version": "3.12.6"
  }
 },
 "nbformat": 4,
 "nbformat_minor": 5
}
